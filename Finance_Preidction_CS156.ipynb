{
  "nbformat": 4,
  "nbformat_minor": 0,
  "metadata": {
    "colab": {
      "name": "Finance Preidction-CS156.ipynb",
      "version": "0.3.2",
      "provenance": [],
      "include_colab_link": true
    },
    "kernelspec": {
      "name": "python3",
      "display_name": "Python 3"
    }
  },
  "cells": [
    {
      "cell_type": "markdown",
      "metadata": {
        "id": "view-in-github",
        "colab_type": "text"
      },
      "source": [
        "<a href=\"https://colab.research.google.com/github/GitWahome/Machine-Learning/blob/master/Finance_Preidction_CS156.ipynb\" target=\"_parent\"><img src=\"https://colab.research.google.com/assets/colab-badge.svg\" alt=\"Open In Colab\"/></a>"
      ]
    },
    {
      "metadata": {
        "id": "OnLKfW6gEYn4",
        "colab_type": "text"
      },
      "cell_type": "markdown",
      "source": [
        "ACCESS THE COLAB: https://colab.research.google.com/drive/1-v9ctU-6pG0Ep1DJmMl-nz0tzGeRTtLb\n",
        "\n",
        "I uploaded the data to github to allow me to work online:\n",
        "\n",
        "I took the first 1500 of both the loan and reject data.\n",
        "\n",
        "Given that the two datasets had not factor connecting them, and given that the prompt was to estimate the maximum amount of loan that can be given, it only made sense to run the model on the accepted loan applications. \n",
        "\n",
        "I did not see how we can combine the two into a single dataset and make use of the same model while non of the variables overlapped to facilitate mapping.\n",
        "\n",
        "*   **Data dictionary:** https://github.com/GitWahome/Machine-Learning/blob/master/LCDataDictionary.xlsx\n",
        "*   **Loan Data:**https://gist.githubusercontent.com/GitWahome/b65307f04e5365c5b92ce5d8974e70ab/raw/d95684e5a5e37b03838a09a7dd7eee3bff9220d3/loandata.csv\n",
        "\n",
        "*   **Reject Data: ** https://gist.githubusercontent.com/GitWahome/e0b76c717bc8f421ca0f859fc038496f/raw/2bc91077fdf9c09c69142d8f8985dd1473f6a34d/MinRejectStats_2018Q2.csv\n",
        "\n",
        "\n"
      ]
    },
    {
      "metadata": {
        "id": "FN_FtL0bEsAb",
        "colab_type": "text"
      },
      "cell_type": "markdown",
      "source": [
        "Variables included in the model:\n",
        "\n",
        "\n",
        "For Loan Data\n",
        "\n",
        "1.   loan_amnt\n",
        "2.   int_rate\n",
        "3.   installment\n",
        "\n",
        "\n",
        "\n"
      ]
    },
    {
      "metadata": {
        "id": "H4aYp_MEvxi3",
        "colab_type": "text"
      },
      "cell_type": "markdown",
      "source": [
        ""
      ]
    },
    {
      "metadata": {
        "id": "oPQT7Da_tyrz",
        "colab_type": "text"
      },
      "cell_type": "markdown",
      "source": [
        "I used this to remove some depreciation warnings. I know it is not advisable, but I needed to make output less cluttered."
      ]
    },
    {
      "metadata": {
        "id": "n6XrvpJ-0VpP",
        "colab_type": "code",
        "colab": {}
      },
      "cell_type": "code",
      "source": [
        "import warnings\n",
        "warnings.filterwarnings(\"ignore\")"
      ],
      "execution_count": 0,
      "outputs": []
    },
    {
      "metadata": {
        "id": "Rs-8xPDXLM-l",
        "colab_type": "text"
      },
      "cell_type": "markdown",
      "source": [
        ""
      ]
    },
    {
      "metadata": {
        "id": "qHsy73WsE2mO",
        "colab_type": "text"
      },
      "cell_type": "markdown",
      "source": [
        "Cleaning/Transformation performed on the data.\n",
        "\n",
        "\n",
        "1.   Remove any empty values\n",
        "2.   Transform all values to floats.\n",
        "3.   Transform interest rates to float from percentage strings.\n",
        "\n"
      ]
    },
    {
      "metadata": {
        "id": "R56Ob98SErtb",
        "colab_type": "code",
        "outputId": "c330d959-a2a6-4567-ce71-2a497038dc62",
        "colab": {
          "base_uri": "https://localhost:8080/",
          "height": 328
        }
      },
      "cell_type": "code",
      "source": [
        "import pandas as pd \n",
        "#I used this to convert the installment rate to floats.\n",
        "def p2f(x):\n",
        "    return float(x.strip('%'))/100\n",
        "loanAccept = pd.read_csv(\"https://gist.githubusercontent.com/GitWahome/b65307f04e5365c5b92ce5d8974e70ab/raw/d95684e5a5e37b03838a09a7dd7eee3bff9220d3/loandata.csv\"\n",
        "                        ,converters = {'int_rate':p2f})\n",
        "loanAccept.columns = loanAccept.columns.str.strip().str.lower().str.replace(' ', '_').str.replace('(', '').str.replace(')', '')\n",
        "\n",
        "# Preview the first 5 lines of the loaded data \n",
        "loanAccept.head()"
      ],
      "execution_count": 0,
      "outputs": [
        {
          "output_type": "execute_result",
          "data": {
            "text/html": [
              "<div>\n",
              "<style scoped>\n",
              "    .dataframe tbody tr th:only-of-type {\n",
              "        vertical-align: middle;\n",
              "    }\n",
              "\n",
              "    .dataframe tbody tr th {\n",
              "        vertical-align: top;\n",
              "    }\n",
              "\n",
              "    .dataframe thead th {\n",
              "        text-align: right;\n",
              "    }\n",
              "</style>\n",
              "<table border=\"1\" class=\"dataframe\">\n",
              "  <thead>\n",
              "    <tr style=\"text-align: right;\">\n",
              "      <th></th>\n",
              "      <th>loan_amnt</th>\n",
              "      <th>funded_amnt</th>\n",
              "      <th>funded_amnt_inv</th>\n",
              "      <th>term</th>\n",
              "      <th>int_rate</th>\n",
              "      <th>installment</th>\n",
              "      <th>grade</th>\n",
              "      <th>sub_grade</th>\n",
              "      <th>emp_title</th>\n",
              "      <th>emp_length</th>\n",
              "      <th>...</th>\n",
              "      <th>hardship_loan_status</th>\n",
              "      <th>orig_projected_additional_accrued_interest</th>\n",
              "      <th>hardship_payoff_balance_amount</th>\n",
              "      <th>hardship_last_payment_amount</th>\n",
              "      <th>disbursement_method</th>\n",
              "      <th>debt_settlement_flag</th>\n",
              "      <th>debt_settlement_flag_date</th>\n",
              "      <th>settlement_status</th>\n",
              "      <th>settlement_date</th>\n",
              "      <th>settlement_amount</th>\n",
              "    </tr>\n",
              "  </thead>\n",
              "  <tbody>\n",
              "    <tr>\n",
              "      <th>0</th>\n",
              "      <td>10000</td>\n",
              "      <td>10000</td>\n",
              "      <td>10000</td>\n",
              "      <td>36 months</td>\n",
              "      <td>0.2039</td>\n",
              "      <td>373.63</td>\n",
              "      <td>D</td>\n",
              "      <td>D4</td>\n",
              "      <td>Realtor</td>\n",
              "      <td>3 years</td>\n",
              "      <td>...</td>\n",
              "      <td>NaN</td>\n",
              "      <td>NaN</td>\n",
              "      <td>NaN</td>\n",
              "      <td>NaN</td>\n",
              "      <td>Cash</td>\n",
              "      <td>N</td>\n",
              "      <td>NaN</td>\n",
              "      <td>NaN</td>\n",
              "      <td>NaN</td>\n",
              "      <td>NaN</td>\n",
              "    </tr>\n",
              "    <tr>\n",
              "      <th>1</th>\n",
              "      <td>20000</td>\n",
              "      <td>20000</td>\n",
              "      <td>20000</td>\n",
              "      <td>60 months</td>\n",
              "      <td>0.1306</td>\n",
              "      <td>455.68</td>\n",
              "      <td>C</td>\n",
              "      <td>C1</td>\n",
              "      <td>Business Analyst</td>\n",
              "      <td>6 years</td>\n",
              "      <td>...</td>\n",
              "      <td>NaN</td>\n",
              "      <td>NaN</td>\n",
              "      <td>NaN</td>\n",
              "      <td>NaN</td>\n",
              "      <td>DirectPay</td>\n",
              "      <td>N</td>\n",
              "      <td>NaN</td>\n",
              "      <td>NaN</td>\n",
              "      <td>NaN</td>\n",
              "      <td>NaN</td>\n",
              "    </tr>\n",
              "    <tr>\n",
              "      <th>2</th>\n",
              "      <td>14000</td>\n",
              "      <td>14000</td>\n",
              "      <td>14000</td>\n",
              "      <td>60 months</td>\n",
              "      <td>0.1056</td>\n",
              "      <td>301.34</td>\n",
              "      <td>B</td>\n",
              "      <td>B3</td>\n",
              "      <td>Product Manager</td>\n",
              "      <td>8 years</td>\n",
              "      <td>...</td>\n",
              "      <td>NaN</td>\n",
              "      <td>NaN</td>\n",
              "      <td>NaN</td>\n",
              "      <td>NaN</td>\n",
              "      <td>Cash</td>\n",
              "      <td>N</td>\n",
              "      <td>NaN</td>\n",
              "      <td>NaN</td>\n",
              "      <td>NaN</td>\n",
              "      <td>NaN</td>\n",
              "    </tr>\n",
              "    <tr>\n",
              "      <th>3</th>\n",
              "      <td>8000</td>\n",
              "      <td>8000</td>\n",
              "      <td>8000</td>\n",
              "      <td>36 months</td>\n",
              "      <td>0.0683</td>\n",
              "      <td>246.40</td>\n",
              "      <td>A</td>\n",
              "      <td>A3</td>\n",
              "      <td>City Attorney</td>\n",
              "      <td>2 years</td>\n",
              "      <td>...</td>\n",
              "      <td>NaN</td>\n",
              "      <td>NaN</td>\n",
              "      <td>NaN</td>\n",
              "      <td>NaN</td>\n",
              "      <td>Cash</td>\n",
              "      <td>N</td>\n",
              "      <td>NaN</td>\n",
              "      <td>NaN</td>\n",
              "      <td>NaN</td>\n",
              "      <td>NaN</td>\n",
              "    </tr>\n",
              "    <tr>\n",
              "      <th>4</th>\n",
              "      <td>22000</td>\n",
              "      <td>22000</td>\n",
              "      <td>22000</td>\n",
              "      <td>60 months</td>\n",
              "      <td>0.1747</td>\n",
              "      <td>552.34</td>\n",
              "      <td>D</td>\n",
              "      <td>D1</td>\n",
              "      <td>Laborer</td>\n",
              "      <td>10+ years</td>\n",
              "      <td>...</td>\n",
              "      <td>NaN</td>\n",
              "      <td>NaN</td>\n",
              "      <td>NaN</td>\n",
              "      <td>NaN</td>\n",
              "      <td>DirectPay</td>\n",
              "      <td>N</td>\n",
              "      <td>NaN</td>\n",
              "      <td>NaN</td>\n",
              "      <td>NaN</td>\n",
              "      <td>NaN</td>\n",
              "    </tr>\n",
              "  </tbody>\n",
              "</table>\n",
              "<p>5 rows × 141 columns</p>\n",
              "</div>"
            ],
            "text/plain": [
              "   loan_amnt  funded_amnt  funded_amnt_inv        term  int_rate  installment  \\\n",
              "0      10000        10000            10000   36 months    0.2039       373.63   \n",
              "1      20000        20000            20000   60 months    0.1306       455.68   \n",
              "2      14000        14000            14000   60 months    0.1056       301.34   \n",
              "3       8000         8000             8000   36 months    0.0683       246.40   \n",
              "4      22000        22000            22000   60 months    0.1747       552.34   \n",
              "\n",
              "  grade sub_grade         emp_title emp_length        ...         \\\n",
              "0     D        D4           Realtor    3 years        ...          \n",
              "1     C        C1  Business Analyst    6 years        ...          \n",
              "2     B        B3   Product Manager    8 years        ...          \n",
              "3     A        A3     City Attorney    2 years        ...          \n",
              "4     D        D1           Laborer  10+ years        ...          \n",
              "\n",
              "  hardship_loan_status  orig_projected_additional_accrued_interest  \\\n",
              "0                  NaN                                         NaN   \n",
              "1                  NaN                                         NaN   \n",
              "2                  NaN                                         NaN   \n",
              "3                  NaN                                         NaN   \n",
              "4                  NaN                                         NaN   \n",
              "\n",
              "  hardship_payoff_balance_amount hardship_last_payment_amount  \\\n",
              "0                            NaN                          NaN   \n",
              "1                            NaN                          NaN   \n",
              "2                            NaN                          NaN   \n",
              "3                            NaN                          NaN   \n",
              "4                            NaN                          NaN   \n",
              "\n",
              "  disbursement_method debt_settlement_flag  debt_settlement_flag_date  \\\n",
              "0                Cash                    N                        NaN   \n",
              "1           DirectPay                    N                        NaN   \n",
              "2                Cash                    N                        NaN   \n",
              "3                Cash                    N                        NaN   \n",
              "4           DirectPay                    N                        NaN   \n",
              "\n",
              "   settlement_status settlement_date settlement_amount  \n",
              "0                NaN             NaN               NaN  \n",
              "1                NaN             NaN               NaN  \n",
              "2                NaN             NaN               NaN  \n",
              "3                NaN             NaN               NaN  \n",
              "4                NaN             NaN               NaN  \n",
              "\n",
              "[5 rows x 141 columns]"
            ]
          },
          "metadata": {
            "tags": []
          },
          "execution_count": 46
        }
      ]
    },
    {
      "metadata": {
        "id": "A7f-1KkIYIFV",
        "colab_type": "text"
      },
      "cell_type": "markdown",
      "source": [
        ""
      ]
    },
    {
      "metadata": {
        "id": "6LBHgtHXDBho",
        "colab_type": "code",
        "outputId": "a039bf91-aab5-4b11-f716-8917ac46904a",
        "colab": {
          "base_uri": "https://localhost:8080/",
          "height": 195
        }
      },
      "cell_type": "code",
      "source": [
        "#Select the rows we need from each dataframe\n",
        "#Remove empty cells\n",
        "loanAccept = loanAccept[['loan_amnt', 'int_rate', 'installment']].dropna()\n",
        "#loanReject = loanReject[['amount_requested', 'debt-to-income_ratio', 'state']].dropna()\n",
        "loanAccept.head()"
      ],
      "execution_count": 0,
      "outputs": [
        {
          "output_type": "execute_result",
          "data": {
            "text/html": [
              "<div>\n",
              "<style scoped>\n",
              "    .dataframe tbody tr th:only-of-type {\n",
              "        vertical-align: middle;\n",
              "    }\n",
              "\n",
              "    .dataframe tbody tr th {\n",
              "        vertical-align: top;\n",
              "    }\n",
              "\n",
              "    .dataframe thead th {\n",
              "        text-align: right;\n",
              "    }\n",
              "</style>\n",
              "<table border=\"1\" class=\"dataframe\">\n",
              "  <thead>\n",
              "    <tr style=\"text-align: right;\">\n",
              "      <th></th>\n",
              "      <th>loan_amnt</th>\n",
              "      <th>int_rate</th>\n",
              "      <th>installment</th>\n",
              "    </tr>\n",
              "  </thead>\n",
              "  <tbody>\n",
              "    <tr>\n",
              "      <th>0</th>\n",
              "      <td>10000</td>\n",
              "      <td>0.2039</td>\n",
              "      <td>373.63</td>\n",
              "    </tr>\n",
              "    <tr>\n",
              "      <th>1</th>\n",
              "      <td>20000</td>\n",
              "      <td>0.1306</td>\n",
              "      <td>455.68</td>\n",
              "    </tr>\n",
              "    <tr>\n",
              "      <th>2</th>\n",
              "      <td>14000</td>\n",
              "      <td>0.1056</td>\n",
              "      <td>301.34</td>\n",
              "    </tr>\n",
              "    <tr>\n",
              "      <th>3</th>\n",
              "      <td>8000</td>\n",
              "      <td>0.0683</td>\n",
              "      <td>246.40</td>\n",
              "    </tr>\n",
              "    <tr>\n",
              "      <th>4</th>\n",
              "      <td>22000</td>\n",
              "      <td>0.1747</td>\n",
              "      <td>552.34</td>\n",
              "    </tr>\n",
              "  </tbody>\n",
              "</table>\n",
              "</div>"
            ],
            "text/plain": [
              "   loan_amnt  int_rate  installment\n",
              "0      10000    0.2039       373.63\n",
              "1      20000    0.1306       455.68\n",
              "2      14000    0.1056       301.34\n",
              "3       8000    0.0683       246.40\n",
              "4      22000    0.1747       552.34"
            ]
          },
          "metadata": {
            "tags": []
          },
          "execution_count": 47
        }
      ]
    },
    {
      "metadata": {
        "id": "CdKyBV5dEYtX",
        "colab_type": "text"
      },
      "cell_type": "markdown",
      "source": [
        "Meta data:\n",
        "\n",
        "**Training method used**\n",
        "\n",
        "I used A  Linear regression on the accepted Loans with the Y as the loan amount and the data being the rest of the variables like  interest rate and installment amount.\n",
        "\n",
        "**Techniques used to avoid overfitting**\n",
        "\n",
        "I applied K fold cross validation with 2 folds.\n",
        "\n",
        "**Model Used**\n",
        "\n",
        "Multiple Linear Regression.\n",
        "\n",
        "**Model performance**\n",
        "\n",
        "The plain model had an accuracy of about 90% but after CV, this became lower with a mean of about 89.5% but it showed higher scores within the set of scores than the normal Linear regressions in some instances.\n",
        "\n",
        "\n",
        "\n",
        "*I will be honest, I suspect there could be a mistake in this step but I ran out of penalties trying to fix it.*\n"
      ]
    },
    {
      "metadata": {
        "id": "HXFQfEUUtqsm",
        "colab_type": "code",
        "outputId": "753992a7-3ddd-4453-b594-43a0e423234a",
        "colab": {
          "base_uri": "https://localhost:8080/",
          "height": 122
        }
      },
      "cell_type": "code",
      "source": [
        "# Split into training and testing sets\n",
        "from sklearn.model_selection import train_test_split\n",
        "X = loanAccept[['int_rate', 'installment']]\n",
        "y = list(loanAccept[\"loan_amnt\"])\n",
        "X_train, X_test, y_train, y_test = train_test_split(X, y)\n",
        "\n",
        "# 10-fold cross-validation with logistic regression\n",
        "from sklearn import linear_model, metrics\n",
        "lm = linear_model.LinearRegression()\n",
        "model = lm.fit(X_train, y_train)\n",
        "predictions = lm.predict(X_test)\n",
        "\n",
        "print(\"This is the amount of variance explained by our Linear Model \\n\",\n",
        "      metrics.explained_variance_score(y_test, predictions))\n",
        "print(\"This is the Accuracy score of our Linear Model \\n\",\n",
        "      metrics.explained_variance_score(y_test, predictions))\n",
        "\n",
        "print(\"These are the model Coefficients \\n\", model.coef_)"
      ],
      "execution_count": 0,
      "outputs": [
        {
          "output_type": "stream",
          "text": [
            "This is the amount of variance explained by our Linear Model \n",
            " 0.889954255201309\n",
            "This is the Accuracy score of our Linear Model \n",
            " 0.889954255201309\n",
            "These are the model Coefficients \n",
            " [-4760.70779465    34.68047751]\n"
          ],
          "name": "stdout"
        }
      ]
    },
    {
      "metadata": {
        "id": "IxKGR5LTvL1B",
        "colab_type": "text"
      },
      "cell_type": "markdown",
      "source": [
        "Fit Linear Regression"
      ]
    },
    {
      "metadata": {
        "id": "sd1yHobltbR1",
        "colab_type": "code",
        "outputId": "9d856b9f-aa1d-4a5b-d1b2-6eafa752f84d",
        "colab": {
          "base_uri": "https://localhost:8080/",
          "height": 158
        }
      },
      "cell_type": "code",
      "source": [
        "from sklearn import metrics\n",
        "import numpy as np\n",
        "finX = []\n",
        "for i in range(len(loanAccept[\"loan_amnt\"])):\n",
        "  finX.append([float(list(loanAccept[\"int_rate\"])[i]),list(loanAccept[\"installment\"])[i]])\n",
        "X = np.array(finX)\n",
        "y = np.array(list(loanAccept[\"loan_amnt\"]))\n",
        "print(\"THIS IS OUR ACCEPTED LOAN DATA \\n\",X)"
      ],
      "execution_count": 0,
      "outputs": [
        {
          "output_type": "stream",
          "text": [
            "THIS IS OUR ACCEPTED LOAN DATA \n",
            " [[2.03900e-01 3.73630e+02]\n",
            " [1.30600e-01 4.55680e+02]\n",
            " [1.05600e-01 3.01340e+02]\n",
            " ...\n",
            " [8.08000e-02 7.84340e+02]\n",
            " [1.64600e-01 3.53850e+02]\n",
            " [1.45200e-01 1.20508e+03]]\n"
          ],
          "name": "stdout"
        }
      ]
    },
    {
      "metadata": {
        "id": "lGa5zBxittre",
        "colab_type": "code",
        "outputId": "96ed6b69-9407-467c-fa5e-76249a6bfba6",
        "colab": {
          "base_uri": "https://localhost:8080/",
          "height": 378
        }
      },
      "cell_type": "code",
      "source": [
        "#This is a plot of the test values vs predicted values\n",
        "## The line / model\n",
        "import matplotlib.pyplot as plt\n",
        "plt.scatter(y_test, predictions)\n",
        "plt.xlabel(\"True Amount of Loan\")\n",
        "plt.ylabel(\"Predicted Loan Amount\")"
      ],
      "execution_count": 0,
      "outputs": [
        {
          "output_type": "execute_result",
          "data": {
            "text/plain": [
              "Text(0,0.5,'Predicted Loan Amount')"
            ]
          },
          "metadata": {
            "tags": []
          },
          "execution_count": 50
        },
        {
          "output_type": "display_data",
          "data": {
            "image/png": "[encoded data removed]",
            "text/plain": [
              "<matplotlib.figure.Figure at 0x7f2ee018ae80>"
            ]
          },
          "metadata": {
            "tags": []
          }
        }
      ]
    },
    {
      "metadata": {
        "id": "Ocel2hKFvSWs",
        "colab_type": "text"
      },
      "cell_type": "markdown",
      "source": [
        "K FOLD cross validation with 2 folds."
      ]
    },
    {
      "metadata": {
        "id": "ImUpMCQFcrJV",
        "colab_type": "code",
        "outputId": "ce6aa5ea-6238-4e02-dfd6-8b55f26d3103",
        "colab": {
          "base_uri": "https://localhost:8080/",
          "height": 52
        }
      },
      "cell_type": "code",
      "source": [
        "from sklearn.model_selection import KFold # import KFold\n",
        "\n",
        "kf = KFold(n_splits=2) # Define the split - into 2 folds \n",
        "kf.get_n_splits(X_train) # returns the number of splitting iterations in the cross-validator\n",
        "print(kf) \n",
        "KFold(n_splits=2, random_state=None, shuffle=False)\n",
        "  "
      ],
      "execution_count": 0,
      "outputs": [
        {
          "output_type": "stream",
          "text": [
            "KFold(n_splits=2, random_state=None, shuffle=False)\n"
          ],
          "name": "stdout"
        },
        {
          "output_type": "execute_result",
          "data": {
            "text/plain": [
              "KFold(n_splits=2, random_state=None, shuffle=False)"
            ]
          },
          "metadata": {
            "tags": []
          },
          "execution_count": 51
        }
      ]
    },
    {
      "metadata": {
        "id": "9GUCVkCd1E6r",
        "colab_type": "text"
      },
      "cell_type": "markdown",
      "source": [
        ""
      ]
    },
    {
      "metadata": {
        "id": "iuAsM4hmc3f5",
        "colab_type": "code",
        "outputId": "f848092f-a1b9-4725-fe58-f8f8e631da58",
        "colab": {
          "base_uri": "https://localhost:8080/",
          "height": 52
        }
      },
      "cell_type": "code",
      "source": [
        "# Necessary imports:\n",
        "#Perform 6 fold cross validation\n",
        "from sklearn.cross_validation import cross_val_score, cross_val_predict\n",
        "# Perform 6-fold cross validation\n",
        "scores = cross_val_score(model, X_train, y_train, cv=6)\n",
        "print(\"Cross-validated scores:\", scores)\n",
        "print(\"Mean cross validated score\", np.mean(scores))"
      ],
      "execution_count": 0,
      "outputs": [
        {
          "output_type": "stream",
          "text": [
            "Cross-validated scores: [0.9044551  0.89928687 0.89165613 0.88812172 0.88693145 0.91035287]\n",
            "Mean cross validated score 0.8968006891248427\n"
          ],
          "name": "stdout"
        }
      ]
    },
    {
      "metadata": {
        "id": "Jd3kqIs9c8LA",
        "colab_type": "code",
        "outputId": "2b2b343f-6fda-4c82-adc5-1dfbbb874325",
        "colab": {
          "base_uri": "https://localhost:8080/",
          "height": 365
        }
      },
      "cell_type": "code",
      "source": [
        "#Now make cross validated predictions\n",
        "predictionsCV = cross_val_predict(model, X_test, y_test, cv=6)\n",
        "plt.scatter(y_test, predictionsCV)"
      ],
      "execution_count": 0,
      "outputs": [
        {
          "output_type": "execute_result",
          "data": {
            "text/plain": [
              "<matplotlib.collections.PathCollection at 0x7f2ee01375c0>"
            ]
          },
          "metadata": {
            "tags": []
          },
          "execution_count": 53
        },
        {
          "output_type": "display_data",
          "data": {
            "image/png": "[encoded data removed]",
            "text/plain": [
              "<matplotlib.figure.Figure at 0x7f2ee027d128>"
            ]
          },
          "metadata": {
            "tags": []
          }
        }
      ]
    },
    {
      "metadata": {
        "id": "ULkQUVh3r0Xk",
        "colab_type": "code",
        "outputId": "30f14877-f009-48a4-9e92-f5b3fb215537",
        "colab": {
          "base_uri": "https://localhost:8080/",
          "height": 70
        }
      },
      "cell_type": "code",
      "source": [
        "accuracy = metrics.r2_score(y_test, predictionsCV)\n",
        "print(\"Cross-Predicted Accuracy:\", accuracy)\n",
        "print(\"This is the amount of variance explained by our Cross Validated Linear Model \\n\",\n",
        "      metrics.explained_variance_score(y_test, predictionsCV))"
      ],
      "execution_count": 0,
      "outputs": [
        {
          "output_type": "stream",
          "text": [
            "Cross-Predicted Accuracy: 0.8880479488414283\n",
            "This is the amount of variance explained by our Cross Validated Linear Model \n",
            " 0.8880483026474542\n"
          ],
          "name": "stdout"
        }
      ]
    }
  ]
}